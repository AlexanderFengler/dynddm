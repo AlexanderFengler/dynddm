{
 "cells": [
  {
   "cell_type": "markdown",
   "metadata": {},
   "source": [
    "### Notebook useful to test simulators"
   ]
  },
  {
   "cell_type": "markdown",
   "metadata": {},
   "source": [
    "#### COLAB Prerequs"
   ]
  },
  {
   "cell_type": "code",
   "execution_count": null,
   "metadata": {},
   "outputs": [],
   "source": [
    "!pip install git+https://github.com/AlexanderFengler/ssm_simulators"
   ]
  },
  {
   "cell_type": "markdown",
   "metadata": {},
   "source": [
    "#### Main scripts"
   ]
  },
  {
   "cell_type": "code",
   "execution_count": 7,
   "metadata": {},
   "outputs": [],
   "source": [
    "import numpy as np\n",
    "import pandas as pd\n",
    "import ssms\n",
    "import matplotlib.pyplot as plt\n",
    "import matplotlib"
   ]
  },
  {
   "cell_type": "code",
   "execution_count": 2,
   "metadata": {},
   "outputs": [
    {
     "data": {
      "text/plain": [
       "['ddm',\n",
       " 'ddm_legacy',\n",
       " 'angle',\n",
       " 'weibull',\n",
       " 'levy',\n",
       " 'levy_angle',\n",
       " 'full_ddm',\n",
       " 'gamma_drift',\n",
       " 'gamma_drift_angle',\n",
       " 'ds_conflict_drift',\n",
       " 'ds_conflict_drift_angle',\n",
       " 'ornstein']"
      ]
     },
     "execution_count": 2,
     "metadata": {},
     "output_type": "execute_result"
    }
   ],
   "source": [
    "# List some of the models that we can simulate from with ssms\n",
    "# 'ds_conflict' and 'ds_conflict_angle' are the ones we care about here\n",
    "list(ssms.config.model_config.keys())[:12]"
   ]
  },
  {
   "cell_type": "code",
   "execution_count": 3,
   "metadata": {},
   "outputs": [
    {
     "data": {
      "text/plain": [
       "{'name': 'ds_conflict_drift',\n",
       " 'params': ['a',\n",
       "  'z',\n",
       "  't',\n",
       "  'tinit',\n",
       "  'dinit',\n",
       "  'tslope',\n",
       "  'dslope',\n",
       "  'tfixedp',\n",
       "  'tcoh',\n",
       "  'dcoh'],\n",
       " 'param_bounds': [[0.3, 0.1, 0.001, 0, 0, 0.01, 0.01, 0, -1.0, -1.0],\n",
       "  [3.0, 0.9, 2.0, 5.0, 5.0, 5.0, 5.0, 5.0, 1.0, 1.0]],\n",
       " 'boundary': <function ssms.basic_simulators.boundary_functions.constant(t=0)>,\n",
       " 'drift_fun': <function ssms.basic_simulators.drift_functions.ds_conflict_drift(t=array([0.000e+00, 1.000e-03, 2.000e-03, ..., 9.997e+00, 9.998e+00,\n",
       "       9.999e+00]), init_p_t=0, init_p_d=0, slope_t=1, slope_d=1, fixed_p_t=1, coherence_t=1.5, coherence_d=1.5)>,\n",
       " 'n_params': 10,\n",
       " 'default_params': [2.0, 0.5, 1.0, 2.0, 2.0, 2.0, 2.0, 3.0, 0.5, -0.5],\n",
       " 'hddm_include': ['a',\n",
       "  'z',\n",
       "  't',\n",
       "  'tinit',\n",
       "  'dinit',\n",
       "  'tslope',\n",
       "  'dslope',\n",
       "  'tfixedp',\n",
       "  'tcoh',\n",
       "  'dcoh'],\n",
       " 'nchoices': 2}"
      ]
     },
     "execution_count": 3,
     "metadata": {},
     "output_type": "execute_result"
    }
   ],
   "source": [
    "# Check the model config\n",
    "ssms.config.model_config['ds_conflict_drift']"
   ]
  },
  {
   "cell_type": "markdown",
   "metadata": {},
   "source": [
    "**Note the parameter names:**\n",
    "\n",
    "- `z` is initial bias\n",
    "- `t` is non-decision time\n",
    "- `tinit` is initial position of the target_v\n",
    "- `dinit` is initial position of the distractor_v\n",
    "- `tslope` is the slope in exponent for the dynamics of target_v\n",
    "- `dslope` is the slope in exponent for the dynamics of distractor_v\n",
    "- `tfixedp` is the fixed point for the target_v (note the fixed point for distractor is set to 0)\n",
    "- `tcoh` is the coherence value for the target\n",
    "- `dcoh` is the coherence value for the distractor\n",
    "\n",
    "For now the coherence values are multiplied with target_v / distractor_v directly (no `tanh` function applied), so that the drift is composed of:\n",
    "\n",
    "`v_t = target_v(t) * tcoh + distractor_v(t) * dcoh`"
   ]
  },
  {
   "cell_type": "code",
   "execution_count": 35,
   "metadata": {},
   "outputs": [],
   "source": [
    "# Testrun simulator\n",
    "from ssms.basic_simulators import simulator\n",
    "\n",
    "model = 'ds_conflict_drift'\n",
    "theta = ssms.config.model_config[model]['default_params'] \n",
    "theta[ssms.config.model_config[model]['params'].index('tfixedp')] = 5\n",
    "theta[ssms.config.model_config[model]['params'].index('a')] = 1.5\n",
    "theta[ssms.config.model_config[model]['params'].index('tinit')] = 5\n",
    "theta[ssms.config.model_config[model]['params'].index('dinit')] = 0\n",
    "theta[ssms.config.model_config[model]['params'].index('tcoh')] = 1\n",
    "theta[ssms.config.model_config[model]['params'].index('dcoh')] = 0\n",
    "theta[ssms.config.model_config[model]['params'].index('t')] = 0\n",
    "sim_out = simulator(model = model, \n",
    "                    theta = theta,\n",
    "                    n_samples = 10000)\n",
    "\n",
    "# For comparison some simulations from the basic ddm\n",
    "# Note this can be helpful because the ddm is a special case\n",
    "# of the ds_conflict model (for specific parameter settings)\n",
    "\n",
    "model_base = 'ddm'\n",
    "theta = ssms.config.model_config[model_base]['default_params'] \n",
    "theta[ssms.config.model_config[model_base]['params'].index('v')] = 5\n",
    "theta[ssms.config.model_config[model_base]['params'].index('a')] = 1.5\n",
    "theta[ssms.config.model_config[model_base]['params'].index('t')] = 0\n",
    "sim_out_base = simulator(model = model_base, \n",
    "                    theta = theta,\n",
    "                    n_samples = 10000)"
   ]
  },
  {
   "cell_type": "code",
   "execution_count": 36,
   "metadata": {},
   "outputs": [
    {
     "name": "stdout",
     "output_type": "stream",
     "text": [
      "sim_out['rts'] is a numpy array: \n",
      " [[0.2979997 ]\n",
      " [0.39599845]\n",
      " [0.33899918]\n",
      " ...\n",
      " [0.57599616]\n",
      " [0.38299862]\n",
      " [0.32399938]]  \n",
      "\n",
      "\n",
      "sim_out['choices'] is a numpy array: \n",
      " [[0.2979997 ]\n",
      " [0.39599845]\n",
      " [0.33899918]\n",
      " ...\n",
      " [0.57599616]\n",
      " [0.38299862]\n",
      " [0.32399938]]  \n",
      "\n",
      "\n",
      "sim_out['metadata'] is a dictionary with all sorts of information about the simulator call: \n",
      " {'v': array([0.], dtype=float32), 'a': array([1.5], dtype=float32), 'z': array([0.5], dtype=float32), 't': array([0.], dtype=float32), 's': 1.0, 'init_p_t': array([5.], dtype=float32), 'init_p_d': array([0.], dtype=float32), 'slope_t': array([2.], dtype=float32), 'slope_d': array([2.], dtype=float32), 'fixed_p_t': array([5.], dtype=float32), 'coherence_t': array([1.], dtype=float32), 'coherence_d': array([0.], dtype=float32), 'delta_t': 0.0010000000474974513, 'max_t': 20.0, 'n_samples': 10000, 'simulator': 'ddm_flex', 'boundary_fun_type': 'constant', 'drift_fun_type': 'constant', 'possible_choices': [-1, 1], 'trajectory': array([[ 0.0000000e+00],\n",
      "       [-6.5495647e-03],\n",
      "       [-7.5707529e-03],\n",
      "       ...,\n",
      "       [-9.9900000e+02],\n",
      "       [-9.9900000e+02],\n",
      "       [-9.9900000e+02]], dtype=float32), 'drift': array([5., 5., 5., ..., 5., 5., 5.], dtype=float32), 'boundary': array([1.5, 1.5, 1.5, ..., 1.5, 1.5, 1.5], dtype=float32), 'model': 'ds_conflict_drift'}\n"
     ]
    }
   ],
   "source": [
    "# Note the simulator returns a dictionary\n",
    "# with three elements\n",
    "# 'rts', 'choices', 'metadata'\n",
    "\n",
    "print(\"sim_out['rts'] is a numpy array: \\n\", sim_out['rts'], \" \\n\\n\" )\n",
    "print(\"sim_out['choices'] is a numpy array: \\n\", sim_out['rts'], \" \\n\\n\")\n",
    "print(\"sim_out['metadata'] is a dictionary with all sorts of information about the simulator call: \\n\", \n",
    "      sim_out['metadata'],)"
   ]
  },
  {
   "cell_type": "code",
   "execution_count": 19,
   "metadata": {},
   "outputs": [
    {
     "data": {
      "text/plain": [
       "(-3.0, 3.0)"
      ]
     },
     "execution_count": 19,
     "metadata": {},
     "output_type": "execute_result"
    },
    {
     "data": {
      "image/png": "[encoded data removed]",
      "text/plain": [
       "<Figure size 432x288 with 1 Axes>"
      ]
     },
     "metadata": {
      "needs_background": "light"
     },
     "output_type": "display_data"
    }
   ],
   "source": [
    "# Plot the reaction times\n",
    "plt.hist(sim_out['rts'] * sim_out['choices'], bins = 30, histtype = 'step')\n",
    "plt.hist(sim_out_base['rts'] * sim_out_base['choices'], bins = 30, histtype = 'step')\n",
    "plt.xlim((-3, 3))"
   ]
  },
  {
   "cell_type": "code",
   "execution_count": 23,
   "metadata": {},
   "outputs": [
    {
     "data": {
      "text/plain": [
       "(-6.0, 6.0)"
      ]
     },
     "execution_count": 23,
     "metadata": {},
     "output_type": "execute_result"
    },
    {
     "data": {
      "image/png": "[encoded data removed]",
      "text/plain": [
       "<Figure size 432x288 with 1 Axes>"
      ]
     },
     "metadata": {
      "needs_background": "light"
     },
     "output_type": "display_data"
    }
   ],
   "source": [
    "# Plot the net drift of the `ds_conflict_drift` model\n",
    "# Plotting\n",
    "plt.plot(sim_out['metadata']['drift'],\n",
    "         color = 'black')\n",
    "plt.ylim((-6, 6))"
   ]
  }
 ],
 "metadata": {
  "kernelspec": {
   "display_name": "cssm",
   "language": "python",
   "name": "cssm"
  },
  "language_info": {
   "codemirror_mode": {
    "name": "ipython",
    "version": 3
   },
   "file_extension": ".py",
   "mimetype": "text/x-python",
   "name": "python",
   "nbconvert_exporter": "python",
   "pygments_lexer": "ipython3",
   "version": "3.8.10"
  }
 },
 "nbformat": 4,
 "nbformat_minor": 4
}
